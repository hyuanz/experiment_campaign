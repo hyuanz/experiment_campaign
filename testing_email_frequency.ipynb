{
 "cells": [
  {
   "cell_type": "markdown",
   "metadata": {},
   "source": [
    "# Pentathlon 2: Testing for the best frequency"
   ]
  },
  {
   "cell_type": "code",
   "execution_count": 1,
   "metadata": {},
   "outputs": [],
   "source": [
    "import numpy as np\n",
    "import pandas as pd\n",
    "import seaborn as sns\n",
    "import matplotlib.pyplot as plt"
   ]
  },
  {
   "cell_type": "markdown",
   "metadata": {},
   "source": [
    "### Calculate the CLV over 8 weeks for each email frequency"
   ]
  },
  {
   "cell_type": "code",
   "execution_count": 2,
   "metadata": {},
   "outputs": [],
   "source": [
    "pentathlon2 = pd.read_excel('data/pentathlon-2.xls')"
   ]
  },
  {
   "cell_type": "code",
   "execution_count": 3,
   "metadata": {
    "lines_to_next_cell": 2
   },
   "outputs": [],
   "source": [
    "freq1 = pentathlon2.loc[0:2, \"Week 1\":].T.rename(columns = {0:'attr', 1:'rev_sub', 2:'rev_unsub'})\n",
    "freq2 = pentathlon2.loc[5:7, \"Week 1\":].T.rename(columns = {5:'attr', 6:'rev_sub', 7:'rev_unsub'})\n",
    "freq3 = pentathlon2.loc[10:12, \"Week 1\":].T.rename(columns = {10:'attr', 11:'rev_sub', 12:'rev_unsub'})\n",
    "freq4 = pentathlon2.loc[15:17, \"Week 1\":].T.rename(columns = {15:'attr', 16:'rev_sub', 17:'rev_unsub'})\n",
    "freq5 = pentathlon2.loc[20:22, \"Week 1\":].T.rename(columns = {20:'attr', 21:'rev_sub', 22:'rev_unsub'})"
   ]
  },
  {
   "cell_type": "markdown",
   "metadata": {},
   "source": [
    "**Assumptions:**  \n",
    "1. Average revenue is further calculated across all subscribed and unsubscribed customers.\n",
    "2. When a purchase is made, the payment is received right afterwards. (use the 0.5 discount # for average discounting)\n",
    "3. Request to unsubscribe is going to be processed at the end of the week. (week 1 has 100% subscription)\n",
    "4. Customers randomly assigned to 5 email-frequency groups.\n",
    "5. Customers have probabilities of being subscribed or unsubscribed based on attrition rate."
   ]
  },
  {
   "cell_type": "code",
   "execution_count": 4,
   "metadata": {},
   "outputs": [],
   "source": [
    "weeks = np.arange(1, 9)\n",
    "cogs = 0.6 # cost of goods sold\n",
    "annual_discount_rate = 0.1\n",
    "weekly_discount_rate = (1+annual_discount_rate)**(1/52)-1"
   ]
  },
  {
   "cell_type": "code",
   "execution_count": 5,
   "metadata": {},
   "outputs": [],
   "source": [
    "# calculate CLV for e-mail frequency 4 (i.e., freq4)"
   ]
  },
  {
   "cell_type": "code",
   "execution_count": 6,
   "metadata": {},
   "outputs": [
    {
     "data": {
      "text/plain": [
       "array([0.14386809, 0.27719104, 0.3916824 , 0.53143754, 0.67068531,\n",
       "       0.78702604, 0.90707565, 1.02758498])"
      ]
     },
     "execution_count": 6,
     "metadata": {},
     "output_type": "execute_result"
    }
   ],
   "source": [
    "seq = np.arange(0.5, 8, 1)\n",
    "\n",
    "profit_subcribed = freq4.rev_sub * (1-cogs)\n",
    "profit_unsubscribed = freq4.rev_unsub * (1-cogs)\n",
    "\n",
    "i = 1\n",
    "prob_act = [1]\n",
    "for iter in range(7):\n",
    "    i = i*(1-freq4.attr[iter]) # the probability is compounding\n",
    "    prob_act.append(i)     \n",
    "prob_inact = [1-prob for prob in prob_act] \n",
    "\n",
    "probability_subscribed = np.array(prob_act)\n",
    "probability_unsubscribed = np.array(prob_inact)\n",
    "expected_profit = profit_subcribed * probability_subscribed + profit_unsubscribed * probability_unsubscribed\n",
    "pv_expected_profit = np.array([e/(1+weekly_discount_rate)**s for e,s in zip(expected_profit,seq)])\n",
    "\n",
    "clv_list = [pv_expected_profit[0]]\n",
    "for c in range(1,8):\n",
    "    value = pv_expected_profit[c] + clv_list[c-1]\n",
    "    clv_list.append(value)\n",
    "    \n",
    "clv = np.array(clv_list)\n",
    "clv"
   ]
  },
  {
   "cell_type": "code",
   "execution_count": 8,
   "metadata": {},
   "outputs": [],
   "source": [
    "def clv_calc(df, weeks, cogs, wd):\n",
    "    \"\"\"\n",
    "    Calculate the cumulative present value of profits\n",
    "    and CLV for a pandas data frame using the results from \n",
    "    the email frequency experiment\n",
    "    \n",
    "    Parameters\n",
    "    ----------\n",
    "    df : Pandas DataFrame (8, 3)\n",
    "        A DataFrame with revenue and attrition information\n",
    "    weeks : Numpy array \n",
    "        Array of shape (8,) with values 1 through 8\n",
    "    cogs : float\n",
    "        Cost of Goods Sold\n",
    "    wd: float\n",
    "        Weekly discount rate\n",
    "        \n",
    "    Returns\n",
    "    -------\n",
    "    Pandas series of shape (8,)\n",
    "        CLV values calculate for week 1 through week 8\n",
    "\n",
    "    \"\"\"\n",
    "    \n",
    "    seq = np.arange(0.5, 8, 1)\n",
    "\n",
    "    profit_subcribed = df.rev_sub * (1-cogs)\n",
    "    profit_unsubscribed = df.rev_unsub * (1-cogs)\n",
    "\n",
    "    i = 1\n",
    "    prob_act = [1]\n",
    "    for iter in range(7):\n",
    "        i = i*(1-df.attr[iter]) # the probability is compounding\n",
    "        prob_act.append(i)     \n",
    "    prob_inact = [1-prob for prob in prob_act] \n",
    "\n",
    "    probability_subscribed = np.array(prob_act)\n",
    "    probability_unsubscribed = np.array(prob_inact)\n",
    "    expected_profit = profit_subcribed * probability_subscribed + profit_unsubscribed * probability_unsubscribed\n",
    "    pv_expected_profit = np.array([e/(1+weekly_discount_rate)**s for e,s in zip(expected_profit,seq)])\n",
    "\n",
    "    clv_list = [pv_expected_profit[0]]\n",
    "    for c in range(1,8):\n",
    "        value = pv_expected_profit[c] + clv_list[c-1]\n",
    "        clv_list.append(value)\n",
    "        \n",
    "    clv = np.array(clv_list)  \n",
    "\n",
    "    return clv"
   ]
  },
  {
   "cell_type": "code",
   "execution_count": 9,
   "metadata": {},
   "outputs": [
    {
     "data": {
      "text/html": [
       "<div>\n",
       "<style scoped>\n",
       "    .dataframe tbody tr th:only-of-type {\n",
       "        vertical-align: middle;\n",
       "    }\n",
       "\n",
       "    .dataframe tbody tr th {\n",
       "        vertical-align: top;\n",
       "    }\n",
       "\n",
       "    .dataframe thead th {\n",
       "        text-align: right;\n",
       "    }\n",
       "</style>\n",
       "<table border=\"1\" class=\"dataframe\">\n",
       "  <thead>\n",
       "    <tr style=\"text-align: right;\">\n",
       "      <th></th>\n",
       "      <th>weeks</th>\n",
       "      <th>freq1</th>\n",
       "      <th>freq2</th>\n",
       "      <th>freq3</th>\n",
       "      <th>freq4</th>\n",
       "      <th>freq5</th>\n",
       "    </tr>\n",
       "  </thead>\n",
       "  <tbody>\n",
       "    <tr>\n",
       "      <th>0</th>\n",
       "      <td>1</td>\n",
       "      <td>0.115894</td>\n",
       "      <td>0.139872</td>\n",
       "      <td>0.147864</td>\n",
       "      <td>0.143868</td>\n",
       "      <td>0.143868</td>\n",
       "    </tr>\n",
       "    <tr>\n",
       "      <th>1</th>\n",
       "      <td>2</td>\n",
       "      <td>0.239335</td>\n",
       "      <td>0.259279</td>\n",
       "      <td>0.270128</td>\n",
       "      <td>0.277191</td>\n",
       "      <td>0.272110</td>\n",
       "    </tr>\n",
       "    <tr>\n",
       "      <th>2</th>\n",
       "      <td>3</td>\n",
       "      <td>0.358297</td>\n",
       "      <td>0.397659</td>\n",
       "      <td>0.409457</td>\n",
       "      <td>0.391682</td>\n",
       "      <td>0.385031</td>\n",
       "    </tr>\n",
       "    <tr>\n",
       "      <th>3</th>\n",
       "      <td>4</td>\n",
       "      <td>0.484524</td>\n",
       "      <td>0.550547</td>\n",
       "      <td>0.559069</td>\n",
       "      <td>0.531438</td>\n",
       "      <td>0.522659</td>\n",
       "    </tr>\n",
       "    <tr>\n",
       "      <th>4</th>\n",
       "      <td>5</td>\n",
       "      <td>0.598461</td>\n",
       "      <td>0.671557</td>\n",
       "      <td>0.682616</td>\n",
       "      <td>0.670685</td>\n",
       "      <td>0.650240</td>\n",
       "    </tr>\n",
       "    <tr>\n",
       "      <th>5</th>\n",
       "      <td>6</td>\n",
       "      <td>0.700280</td>\n",
       "      <td>0.799185</td>\n",
       "      <td>0.810303</td>\n",
       "      <td>0.787026</td>\n",
       "      <td>0.774683</td>\n",
       "    </tr>\n",
       "    <tr>\n",
       "      <th>6</th>\n",
       "      <td>7</td>\n",
       "      <td>0.805389</td>\n",
       "      <td>0.933803</td>\n",
       "      <td>0.944781</td>\n",
       "      <td>0.907076</td>\n",
       "      <td>0.888887</td>\n",
       "    </tr>\n",
       "    <tr>\n",
       "      <th>7</th>\n",
       "      <td>8</td>\n",
       "      <td>0.913969</td>\n",
       "      <td>1.063883</td>\n",
       "      <td>1.072293</td>\n",
       "      <td>1.027585</td>\n",
       "      <td>0.995609</td>\n",
       "    </tr>\n",
       "  </tbody>\n",
       "</table>\n",
       "</div>"
      ],
      "text/plain": [
       "   weeks     freq1     freq2     freq3     freq4     freq5\n",
       "0      1  0.115894  0.139872  0.147864  0.143868  0.143868\n",
       "1      2  0.239335  0.259279  0.270128  0.277191  0.272110\n",
       "2      3  0.358297  0.397659  0.409457  0.391682  0.385031\n",
       "3      4  0.484524  0.550547  0.559069  0.531438  0.522659\n",
       "4      5  0.598461  0.671557  0.682616  0.670685  0.650240\n",
       "5      6  0.700280  0.799185  0.810303  0.787026  0.774683\n",
       "6      7  0.805389  0.933803  0.944781  0.907076  0.888887\n",
       "7      8  0.913969  1.063883  1.072293  1.027585  0.995609"
      ]
     },
     "execution_count": 9,
     "metadata": {},
     "output_type": "execute_result"
    }
   ],
   "source": [
    "clv1 = clv_calc(freq1, weeks, cogs, weekly_discount_rate)\n",
    "clv2 = clv_calc(freq2, weeks, cogs, weekly_discount_rate)\n",
    "clv3 = clv_calc(freq3, weeks, cogs, weekly_discount_rate)\n",
    "clv4 = clv_calc(freq4, weeks, cogs, weekly_discount_rate)\n",
    "clv5 = clv_calc(freq5, weeks, cogs, weekly_discount_rate)\n",
    "\n",
    "CLV8 = pd.DataFrame({'weeks':weeks, 'freq1':clv1, 'freq2':clv2, 'freq3':clv3, 'freq4':clv4, 'freq5':clv5})\n",
    "CLV8"
   ]
  },
  {
   "cell_type": "markdown",
   "metadata": {},
   "source": [
    "### Create a line graph of the CLV values for each plan change over the 8 week period. Your code should create a single plot with 5 lines"
   ]
  },
  {
   "cell_type": "code",
   "execution_count": 10,
   "metadata": {},
   "outputs": [
    {
     "data": {
      "image/png": "[encoded data removed]",
      "text/plain": [
       "<Figure size 432x288 with 1 Axes>"
      ]
     },
     "metadata": {
      "needs_background": "light"
     },
     "output_type": "display_data"
    }
   ],
   "source": [
    "# use seaborn to create a line chart that shows CLV over the 8 week period\n",
    "CLV8.index = np.arange(1, 9)\n",
    "CLV8 = CLV8.drop(columns = [\"weeks\"])\n",
    "\n",
    "fig = sns.lineplot(data=CLV8)\n",
    "plt.show()\n",
    "\n",
    "CLV8 = pd.DataFrame({'weeks':weeks, 'freq1':clv1, 'freq2':clv2, 'freq3':clv3, 'freq4':clv4, 'freq5':clv5})"
   ]
  },
  {
   "cell_type": "markdown",
   "metadata": {},
   "source": [
    "### What e-mail frequency should Pentathlon adopt based on the available data?"
   ]
  },
  {
   "cell_type": "markdown",
   "metadata": {},
   "source": [
    "Based on the calculations from question 1 and question 2, I believe the email frequency Pentathlon should adopt is to send 3-emails per week. \n",
    "\n",
    "The reason is that the customer lifetime value during the 8 weeks is maximized at frequency 3.\n",
    "\n",
    "Additionally, the available data here provides the attrition rate, revenue of subscribed customers and revenue of unsubscribed customers in 5 frequency groups. \n",
    "The groups are randomized assigned. In this situation, a causal claim would be: email frequency affects customer lifetime values.\n",
    "The factor of interest is email frequencies. Probability equivalence exist, the comparison between groups is valid."
   ]
  },
  {
   "cell_type": "markdown",
   "metadata": {},
   "source": [
    "### What e-mail frequency would you recommend if you considered a longer time horizon?"
   ]
  },
  {
   "cell_type": "markdown",
   "metadata": {},
   "source": [
    "I would recommend considered a longer time horizon is frequency 2 based on the available data. \n",
    "Looking at the customer lifetime calculation in question 1 and question 2, the maximum appears to be the frequency 3 and the second maximum appears to be the frequency 2.\n",
    "There isn't huge difference between frequency 2 and frequency 3 in short term. So it is reasonable to include further evidence to set up the e-mail frequency for longer term.\n",
    "\n",
    "A further evidence to consider is the attrition rate under email frequency groups.\n",
    "It is important to keep the customer attrition rate as low as possible because he revenue of subscribed customers are larger than unsubscribed customers in general for all the 5 groups.\n",
    "While frequency 1 has the lowest attrition rate, frequency 2 has the larger revenue.\n",
    "\n",
    "Considering the customer lifetime calculation and attrition rate, I would recommend frequency 2."
   ]
  },
  {
   "cell_type": "code",
   "execution_count": 11,
   "metadata": {},
   "outputs": [
    {
     "name": "stdout",
     "output_type": "stream",
     "text": [
      "0.0046875 0.0070125 0.026499999999999996 0.04038750000000001 0.063025\n",
      "0.29000000000000004 0.33999999999999997 0.35625 0.355 0.35875000000000007\n",
      "0.1225 0.12375 0.15 0.1325 0.13\n"
     ]
    }
   ],
   "source": [
    "print(freq1.attr.mean(),freq2.attr.mean(),freq3.attr.mean(),freq4.attr.mean(),freq5.attr.mean())\n",
    "print(freq1.rev_sub.mean(),freq2.rev_sub.mean(),freq3.rev_sub.mean(),freq4.rev_sub.mean(),freq5.rev_sub.mean())\n",
    "print(freq1.rev_unsub.mean(),freq2.rev_unsub.mean(),freq3.rev_unsub.mean(),freq4.rev_unsub.mean(),freq5.rev_unsub.mean())"
   ]
  },
  {
   "cell_type": "markdown",
   "metadata": {},
   "source": [
    "###  CLV over 104 weeks "
   ]
  },
  {
   "cell_type": "code",
   "execution_count": 12,
   "metadata": {},
   "outputs": [],
   "source": [
    "sim_clv = pd.read_csv(\"data/pentathlon-2-avg.csv\")"
   ]
  },
  {
   "cell_type": "code",
   "execution_count": 13,
   "metadata": {},
   "outputs": [],
   "source": [
    "weeks104 = np.arange(1, 104 + 1)\n",
    "cogs = 0.6\n",
    "annual_discount_rate = 0.1\n",
    "weekly_discount_rate = (1+annual_discount_rate)**(1/52)-1"
   ]
  },
  {
   "cell_type": "code",
   "execution_count": 14,
   "metadata": {},
   "outputs": [],
   "source": [
    "# calculate CLV for e-mail frequency 4 (i.e., freq4)"
   ]
  },
  {
   "cell_type": "code",
   "execution_count": 15,
   "metadata": {},
   "outputs": [
    {
     "data": {
      "text/plain": [
       "array([0.14193263, 0.28043176, 0.41562561, 0.54763744, 0.67658581,\n",
       "       0.80258473, 0.92574382, 1.04616852, 1.16396021, 1.27921639,\n",
       "       1.3920308 , 1.50249363, 1.61069156, 1.71670798, 1.82062308,\n",
       "       1.92251397, 2.02245481, 2.1205169 , 2.21676884, 2.31127656,\n",
       "       2.4041035 , 2.49531066, 2.58495669, 2.67309801, 2.75978887,\n",
       "       2.84508144, 2.9290259 , 3.01167051, 3.09306167, 3.17324402,\n",
       "       3.25226047, 3.33015232, 3.40695927, 3.48271949, 3.55746971,\n",
       "       3.63124525, 3.70408008, 3.77600687, 3.84705704, 3.9172608 ,\n",
       "       3.98664724, 4.05524429, 4.12307885, 4.19017679, 4.25656297,\n",
       "       4.32226132, 4.38729485, 4.4516857 , 4.51545516, 4.5786237 ,\n",
       "       4.64121103, 4.70323609, 4.76471711, 4.82567162, 4.88611648,\n",
       "       4.94606793, 5.00554155, 5.06455238, 5.12311485, 5.18124285,\n",
       "       5.23894975, 5.2962484 , 5.35315119, 5.40967   , 5.46581629,\n",
       "       5.52160108, 5.57703497, 5.63212815, 5.68689044, 5.74133127,\n",
       "       5.79545974, 5.84928458, 5.90281421, 5.95605672, 6.0090199 ,\n",
       "       6.06171125, 6.11413798, 6.16630703, 6.2182251 , 6.2698986 ,\n",
       "       6.32133373, 6.37253645, 6.42351249, 6.47426738, 6.52480642,\n",
       "       6.57513474, 6.62525726, 6.67517872, 6.7249037 , 6.77443657,\n",
       "       6.82378159, 6.87294282, 6.92192419, 6.97072947, 7.01936232,\n",
       "       7.06782624, 7.1161246 , 7.16426066, 7.21223756, 7.26005831,\n",
       "       7.30772582, 7.35524289, 7.40261223, 7.44983645])"
      ]
     },
     "execution_count": 15,
     "metadata": {},
     "output_type": "execute_result"
    }
   ],
   "source": [
    "seq104 = np.arange(0.5, 104, 1)\n",
    "\n",
    "profit_subcribed104 = float(sim_clv[sim_clv[\"email_freq\"] == \"freq4\"].rev_sub * (1-cogs))\n",
    "profit_unsubscribed104 = float(sim_clv[sim_clv[\"email_freq\"] == \"freq4\"].rev_unsub * (1-cogs))\n",
    "\n",
    "i = 1\n",
    "prob_act104 = [1]\n",
    "for iter in range(103):\n",
    "    i = i*(1-float(sim_clv[sim_clv[\"email_freq\"] == \"freq4\"].schurn)) # the probability is compounding\n",
    "    prob_act104.append(i)     \n",
    "prob_inact104 = [1-prob for prob in prob_act104] \n",
    "\n",
    "probability_subscribed104 = np.array(prob_act104)\n",
    "probability_unsubscribed104 = np.array(prob_inact104)\n",
    "\n",
    "exp_prof_sub = [profit_subcribed104 * prob for prob in probability_subscribed104]\n",
    "exp_prof_unsub = [profit_unsubscribed104 * prob for prob in probability_unsubscribed104]\n",
    "\n",
    "expected_profit104 = np.array([x+y for x,y in zip(exp_prof_sub,exp_prof_unsub)])\n",
    "pv_expected_profit104 = np.array([e/(1+weekly_discount_rate)** s for e,s in zip(expected_profit104,seq104)])\n",
    "\n",
    "clv104_list = [pv_expected_profit104[0]]\n",
    "for c in range(1,104):\n",
    "    value = pv_expected_profit104[c] + clv104_list[c-1]\n",
    "    clv104_list.append(value)\n",
    "\n",
    "clv104 = np.array(clv104_list)\n",
    "clv104"
   ]
  },
  {
   "cell_type": "code",
   "execution_count": 16,
   "metadata": {},
   "outputs": [],
   "source": [
    "# calculate CLV for each of the 5 e-mail frequencies and combine the result in a dataframe"
   ]
  },
  {
   "cell_type": "code",
   "execution_count": 17,
   "metadata": {},
   "outputs": [],
   "source": [
    "def sim_clv_calc(df, weeks, cogs, wd):\n",
    "    \"\"\"\n",
    "    Calculate the cumulative present value of profits\n",
    "    and CLV for a pandas data frame with simulated \n",
    "    subscriber churn over a 104 week period\n",
    "    \n",
    "    Parameters\n",
    "    ----------\n",
    "    df : Pandas DataFrame (1, 4)\n",
    "        A DataFrame with revenue and attrition information\n",
    "    weeks : Numpy array \n",
    "        Array of shape (n,) with values 1 through n\n",
    "    cogs : float\n",
    "        Cost of Goods Sold\n",
    "    wd: float\n",
    "        Weekly discount rate\n",
    "        \n",
    "    Returns\n",
    "    -------\n",
    "    Pandas series of shape (n,)\n",
    "        CLV values calculate for week 1 through week n\n",
    "\n",
    "    \"\"\"\n",
    "\n",
    "    seq104 = np.arange(0.5, 104, 1)\n",
    "\n",
    "    profit_subcribed104 = float(df.rev_sub * (1-cogs))\n",
    "    profit_unsubscribed104 = float(df.rev_unsub * (1-cogs))\n",
    "    \n",
    "    i = 1\n",
    "    prob_act104 = [1]\n",
    "    for iter in range(103):\n",
    "        i = i*(1-float(df.schurn)) # the probability is compounding\n",
    "        prob_act104.append(i)     \n",
    "    prob_inact104 = [1-prob for prob in prob_act104] \n",
    "   \n",
    "    probability_subscribed104 = np.array(prob_act104)\n",
    "    probability_unsubscribed104 = np.array(prob_inact104)\n",
    "\n",
    "    exp_prof_sub = [profit_subcribed104 * prob for prob in probability_subscribed104]\n",
    "    exp_prof_unsub = [profit_unsubscribed104 * prob for prob in probability_unsubscribed104]\n",
    "\n",
    "    expected_profit104 = np.array([x+y for x,y in zip(exp_prof_sub,exp_prof_unsub)])\n",
    "    pv_expected_profit104 = np.array([e/(1+weekly_discount_rate)** s for e,s in zip(expected_profit104,seq104)])\n",
    "    \n",
    "    clv104_list = [pv_expected_profit104[0]]\n",
    "    for c in range(1,104):\n",
    "        value = pv_expected_profit104[c] + clv104_list[c-1]\n",
    "        clv104_list.append(value)\n",
    "\n",
    "    clv = np.array(clv104_list)\n",
    "    \n",
    "    return clv"
   ]
  },
  {
   "cell_type": "code",
   "execution_count": 18,
   "metadata": {},
   "outputs": [
    {
     "data": {
      "text/html": [
       "<div>\n",
       "<style scoped>\n",
       "    .dataframe tbody tr th:only-of-type {\n",
       "        vertical-align: middle;\n",
       "    }\n",
       "\n",
       "    .dataframe tbody tr th {\n",
       "        vertical-align: top;\n",
       "    }\n",
       "\n",
       "    .dataframe thead th {\n",
       "        text-align: right;\n",
       "    }\n",
       "</style>\n",
       "<table border=\"1\" class=\"dataframe\">\n",
       "  <thead>\n",
       "    <tr style=\"text-align: right;\">\n",
       "      <th></th>\n",
       "      <th>weeks</th>\n",
       "      <th>freq1</th>\n",
       "      <th>freq2</th>\n",
       "      <th>freq3</th>\n",
       "      <th>freq4</th>\n",
       "      <th>freq5</th>\n",
       "    </tr>\n",
       "  </thead>\n",
       "  <tbody>\n",
       "    <tr>\n",
       "      <th>0</th>\n",
       "      <td>1</td>\n",
       "      <td>0.115895</td>\n",
       "      <td>0.135878</td>\n",
       "      <td>0.142365</td>\n",
       "      <td>0.141933</td>\n",
       "      <td>0.143382</td>\n",
       "    </tr>\n",
       "    <tr>\n",
       "      <th>1</th>\n",
       "      <td>2</td>\n",
       "      <td>0.231309</td>\n",
       "      <td>0.270974</td>\n",
       "      <td>0.282460</td>\n",
       "      <td>0.280432</td>\n",
       "      <td>0.281429</td>\n",
       "    </tr>\n",
       "    <tr>\n",
       "      <th>2</th>\n",
       "      <td>3</td>\n",
       "      <td>0.346243</td>\n",
       "      <td>0.405293</td>\n",
       "      <td>0.420339</td>\n",
       "      <td>0.415626</td>\n",
       "      <td>0.414441</td>\n",
       "    </tr>\n",
       "    <tr>\n",
       "      <th>3</th>\n",
       "      <td>4</td>\n",
       "      <td>0.460701</td>\n",
       "      <td>0.538841</td>\n",
       "      <td>0.556058</td>\n",
       "      <td>0.547637</td>\n",
       "      <td>0.542704</td>\n",
       "    </tr>\n",
       "    <tr>\n",
       "      <th>4</th>\n",
       "      <td>5</td>\n",
       "      <td>0.574685</td>\n",
       "      <td>0.671624</td>\n",
       "      <td>0.689668</td>\n",
       "      <td>0.676586</td>\n",
       "      <td>0.666486</td>\n",
       "    </tr>\n",
       "    <tr>\n",
       "      <th>...</th>\n",
       "      <td>...</td>\n",
       "      <td>...</td>\n",
       "      <td>...</td>\n",
       "      <td>...</td>\n",
       "      <td>...</td>\n",
       "      <td>...</td>\n",
       "    </tr>\n",
       "    <tr>\n",
       "      <th>99</th>\n",
       "      <td>100</td>\n",
       "      <td>9.555871</td>\n",
       "      <td>10.490329</td>\n",
       "      <td>8.340831</td>\n",
       "      <td>7.260058</td>\n",
       "      <td>6.365888</td>\n",
       "    </tr>\n",
       "    <tr>\n",
       "      <th>100</th>\n",
       "      <td>101</td>\n",
       "      <td>9.633861</td>\n",
       "      <td>10.570305</td>\n",
       "      <td>8.395244</td>\n",
       "      <td>7.307726</td>\n",
       "      <td>6.409727</td>\n",
       "    </tr>\n",
       "    <tr>\n",
       "      <th>101</th>\n",
       "      <td>102</td>\n",
       "      <td>9.711559</td>\n",
       "      <td>10.649898</td>\n",
       "      <td>8.449406</td>\n",
       "      <td>7.355243</td>\n",
       "      <td>6.453472</td>\n",
       "    </tr>\n",
       "    <tr>\n",
       "      <th>102</th>\n",
       "      <td>103</td>\n",
       "      <td>9.788966</td>\n",
       "      <td>10.729110</td>\n",
       "      <td>8.503323</td>\n",
       "      <td>7.402612</td>\n",
       "      <td>6.497125</td>\n",
       "    </tr>\n",
       "    <tr>\n",
       "      <th>103</th>\n",
       "      <td>104</td>\n",
       "      <td>9.866084</td>\n",
       "      <td>10.807943</td>\n",
       "      <td>8.556999</td>\n",
       "      <td>7.449836</td>\n",
       "      <td>6.540685</td>\n",
       "    </tr>\n",
       "  </tbody>\n",
       "</table>\n",
       "<p>104 rows × 6 columns</p>\n",
       "</div>"
      ],
      "text/plain": [
       "     weeks     freq1      freq2     freq3     freq4     freq5\n",
       "0        1  0.115895   0.135878  0.142365  0.141933  0.143382\n",
       "1        2  0.231309   0.270974  0.282460  0.280432  0.281429\n",
       "2        3  0.346243   0.405293  0.420339  0.415626  0.414441\n",
       "3        4  0.460701   0.538841  0.556058  0.547637  0.542704\n",
       "4        5  0.574685   0.671624  0.689668  0.676586  0.666486\n",
       "..     ...       ...        ...       ...       ...       ...\n",
       "99     100  9.555871  10.490329  8.340831  7.260058  6.365888\n",
       "100    101  9.633861  10.570305  8.395244  7.307726  6.409727\n",
       "101    102  9.711559  10.649898  8.449406  7.355243  6.453472\n",
       "102    103  9.788966  10.729110  8.503323  7.402612  6.497125\n",
       "103    104  9.866084  10.807943  8.556999  7.449836  6.540685\n",
       "\n",
       "[104 rows x 6 columns]"
      ]
     },
     "execution_count": 18,
     "metadata": {},
     "output_type": "execute_result"
    }
   ],
   "source": [
    "# calculate CLV for each of the 5 e-mail frequencies and combine the result in a dataframe\n",
    "\n",
    "clv1 = sim_clv_calc(sim_clv[sim_clv[\"email_freq\"] == \"freq1\"], weeks104, cogs, weekly_discount_rate)\n",
    "clv2 = sim_clv_calc(sim_clv[sim_clv[\"email_freq\"] == \"freq2\"], weeks104, cogs, weekly_discount_rate)\n",
    "clv3 = sim_clv_calc(sim_clv[sim_clv[\"email_freq\"] == \"freq3\"], weeks104, cogs, weekly_discount_rate)\n",
    "clv4 = sim_clv_calc(sim_clv[sim_clv[\"email_freq\"] == \"freq4\"], weeks104, cogs, weekly_discount_rate)\n",
    "clv5 = sim_clv_calc(sim_clv[sim_clv[\"email_freq\"] == \"freq5\"], weeks104, cogs, weekly_discount_rate)\n",
    "\n",
    "CLV104 = pd.DataFrame({'weeks':weeks104, 'freq1':clv1, 'freq2':clv2, 'freq3':clv3, 'freq4':clv4, 'freq5':clv5})\n",
    "CLV104"
   ]
  },
  {
   "cell_type": "markdown",
   "metadata": {},
   "source": [
    "### Create a line chart that shows CLV over the 104 week period for each of the 5 email frequencies (i.e., 1 plot with 5 lines)"
   ]
  },
  {
   "cell_type": "code",
   "execution_count": 19,
   "metadata": {},
   "outputs": [
    {
     "data": {
      "image/png": "[encoded data removed]",
      "text/plain": [
       "<Figure size 432x288 with 1 Axes>"
      ]
     },
     "metadata": {
      "needs_background": "light"
     },
     "output_type": "display_data"
    }
   ],
   "source": [
    "CLV104.index = np.arange(1, 105)\n",
    "CLV104 = CLV104.drop(columns = [\"weeks\"])\n",
    "\n",
    "fig = sns.lineplot(data=CLV104)\n",
    "plt.show()\n",
    "\n",
    "CLV104 = pd.DataFrame({'weeks':weeks104, 'freq1':clv1, 'freq2':clv2, 'freq3':clv3, 'freq4':clv4, 'freq5':clv5})"
   ]
  },
  {
   "cell_type": "markdown",
   "metadata": {},
   "source": [
    "The available data used to calculate customer lifetime values are different. Also, the time range of calculation is different."
   ]
  },
  {
   "cell_type": "markdown",
   "metadata": {},
   "source": [
    "###  Two limitations of the experiment."
   ]
  },
  {
   "cell_type": "markdown",
   "metadata": {},
   "source": [
    "1. The experiment has confounding variables such as recency, frequency and monetary value of customers' purchase. Based on RFM analysis, recency, frequency and monetary value of purchase all counts as reasons behind people making purchase no matter they are subscribed to email or not. Adding variables including recency, frequency and monetary values into the experiment would help eliminate the confounding effect and address the limitation.\n",
    "\n",
    "2. In the experiment, the emails are decentralized and might not be randomly assigned to the 5 email frequency groups. For example, a particular department might send email twice a week and another department might send email one two weeks. So, the emails customers received might be all from one department. The variation in department and customers' preference in different departments would leads to different purchase behaviors. Then, the customer lifetime value based on the emails would be affected. One way to address this limitation is to have Pentathlon centralize emails from different department and add the email category into the experiment.\n",
    "\n",
    "3. The email frequency for customers is stable in the experiment. However, there are consumption trends in particular weeks of a year. The stable email frequency would not be the best way for marketing. A way to address the limitation is to include different combinations of email frequencies for different seasons or weeks of a year. \n",
    "\n"
   ]
  }
 ],
 "metadata": {
  "jupytext": {
   "cell_metadata_filter": "-all",
   "main_language": "python",
   "notebook_metadata_filter": "-all"
  },
  "kernelspec": {
   "display_name": "Python 3 (ipykernel)",
   "language": "python",
   "name": "python3"
  },
  "language_info": {
   "codemirror_mode": {
    "name": "ipython",
    "version": 3
   },
   "file_extension": ".py",
   "mimetype": "text/x-python",
   "name": "python",
   "nbconvert_exporter": "python",
   "pygments_lexer": "ipython3",
   "version": "3.9.15"
  }
 },
 "nbformat": 4,
 "nbformat_minor": 4
}
